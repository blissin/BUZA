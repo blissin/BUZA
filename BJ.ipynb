{
 "cells": [
  {
   "cell_type": "code",
   "execution_count": 1,
   "metadata": {},
   "outputs": [],
   "source": [
    "N=input()\n",
    "K=input()"
   ]
  },
  {
   "cell_type": "code",
   "execution_count": 2,
   "metadata": {},
   "outputs": [],
   "source": [
    "while True:\n",
    "    N=int(input(\"N을 입력하세요\"))\n",
    "    if N%4 == 0:\n",
    "        break"
   ]
  },
  {
   "cell_type": "code",
   "execution_count": 10,
   "metadata": {},
   "outputs": [
    {
     "name": "stdout",
     "output_type": "stream",
     "text": [
      "4\n"
     ]
    }
   ],
   "source": [
    "a, b = map(int, input().split())\n",
    "print(a+b)"
   ]
  },
  {
   "cell_type": "code",
   "execution_count": 2,
   "metadata": {},
   "outputs": [
    {
     "ename": "IndexError",
     "evalue": "list index out of range",
     "output_type": "error",
     "traceback": [
      "\u001b[1;31m---------------------------------------------------------------------------\u001b[0m",
      "\u001b[1;31mIndexError\u001b[0m                                Traceback (most recent call last)",
      "\u001b[1;32mc:\\Users\\shj82\\Desktop\\BUZA\\BJ.ipynb Cell 2'\u001b[0m in \u001b[0;36m<cell line: 4>\u001b[1;34m()\u001b[0m\n\u001b[0;32m      <a href='vscode-notebook-cell:/c%3A/Users/shj82/Desktop/BUZA/BJ.ipynb#ch0000001?line=1'>2</a>\u001b[0m \u001b[39mfor\u001b[39;00m i \u001b[39min\u001b[39;00m \u001b[39mrange\u001b[39m(\u001b[39mlen\u001b[39m(a)):\n\u001b[0;32m      <a href='vscode-notebook-cell:/c%3A/Users/shj82/Desktop/BUZA/BJ.ipynb#ch0000001?line=2'>3</a>\u001b[0m     a[i]\u001b[39m=\u001b[39m\u001b[39mint\u001b[39m(a[i])\n\u001b[1;32m----> <a href='vscode-notebook-cell:/c%3A/Users/shj82/Desktop/BUZA/BJ.ipynb#ch0000001?line=3'>4</a>\u001b[0m \u001b[39mprint\u001b[39m((a[\u001b[39m0\u001b[39m]\u001b[39m+\u001b[39ma[\u001b[39m1\u001b[39;49m])\u001b[39m%\u001b[39ma[\u001b[39m2\u001b[39m])\n\u001b[0;32m      <a href='vscode-notebook-cell:/c%3A/Users/shj82/Desktop/BUZA/BJ.ipynb#ch0000001?line=4'>5</a>\u001b[0m \u001b[39mprint\u001b[39m(((a[\u001b[39m0\u001b[39m]\u001b[39m%\u001b[39ma[\u001b[39m2\u001b[39m])\u001b[39m+\u001b[39m(a[\u001b[39m1\u001b[39m]\u001b[39m%\u001b[39ma[\u001b[39m2\u001b[39m]))\u001b[39m%\u001b[39ma[\u001b[39m2\u001b[39m])\n\u001b[0;32m      <a href='vscode-notebook-cell:/c%3A/Users/shj82/Desktop/BUZA/BJ.ipynb#ch0000001?line=5'>6</a>\u001b[0m \u001b[39mprint\u001b[39m((a[\u001b[39m0\u001b[39m]\u001b[39m*\u001b[39ma[\u001b[39m1\u001b[39m])\u001b[39m%\u001b[39ma[\u001b[39m2\u001b[39m])\n",
      "\u001b[1;31mIndexError\u001b[0m: list index out of range"
     ]
    }
   ],
   "source": [
    "a = list(input().split())\n",
    "for i in range(len(a)):\n",
    "    a[i]=int(a[i])\n",
    "print((a[0]+a[1])%a[2])\n",
    "print(((a[0]%a[2])+(a[1]%a[2]))%a[2])\n",
    "print((a[0]*a[1])%a[2])\n",
    "print(((a[0]%a[2])*(a[1]%a[2]))%a[2])\n"
   ]
  },
  {
   "cell_type": "code",
   "execution_count": 14,
   "metadata": {},
   "outputs": [
    {
     "name": "stdout",
     "output_type": "stream",
     "text": [
      "2360\n",
      "3776\n",
      "1416\n",
      "181720\n"
     ]
    }
   ],
   "source": [
    "\n",
    "a=int(input())\n",
    "b=input()\n",
    "print(a*int(b[-1]))\n",
    "print(a*int(b[-2]))\n",
    "print(a*int(b[-3]))\n",
    "print(a*int(b))"
   ]
  },
  {
   "cell_type": "code",
   "execution_count": 11,
   "metadata": {},
   "outputs": [
    {
     "data": {
      "text/plain": [
       "'2'"
      ]
     },
     "execution_count": 11,
     "metadata": {},
     "output_type": "execute_result"
    }
   ],
   "source": [
    "a=str(472)\n",
    "a[0]\n",
    "a[1]\n",
    "a[2]\n"
   ]
  },
  {
   "cell_type": "code",
   "execution_count": null,
   "metadata": {},
   "outputs": [],
   "source": []
  }
 ],
 "metadata": {
  "kernelspec": {
   "display_name": "Python 3.9.12 ('coin')",
   "language": "python",
   "name": "python3"
  },
  "language_info": {
   "codemirror_mode": {
    "name": "ipython",
    "version": 3
   },
   "file_extension": ".py",
   "mimetype": "text/x-python",
   "name": "python",
   "nbconvert_exporter": "python",
   "pygments_lexer": "ipython3",
   "version": "3.9.12"
  },
  "orig_nbformat": 4,
  "vscode": {
   "interpreter": {
    "hash": "a77181fc8ed12697868dbe4c1d4e7aba69e7d66889fd00fd2a00ded106ef11e1"
   }
  }
 },
 "nbformat": 4,
 "nbformat_minor": 2
}
