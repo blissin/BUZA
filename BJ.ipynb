{
 "cells": [
  {
   "cell_type": "code",
   "execution_count": 1,
   "metadata": {},
   "outputs": [],
   "source": [
    "N=input()\n",
    "K=input()"
   ]
  },
  {
   "cell_type": "code",
   "execution_count": 2,
   "metadata": {},
   "outputs": [],
   "source": [
    "while True:\n",
    "    N=int(input(\"N을 입력하세요\"))\n",
    "    if N%4 == 0:\n",
    "        break"
   ]
  },
  {
   "cell_type": "code",
   "execution_count": 10,
   "metadata": {},
   "outputs": [
    {
     "name": "stdout",
     "output_type": "stream",
     "text": [
      "4\n"
     ]
    }
   ],
   "source": [
    "a, b = map(int, input().split())\n",
    "print(a+b)"
   ]
  },
  {
   "cell_type": "code",
   "execution_count": 2,
   "metadata": {},
   "outputs": [
    {
     "ename": "IndexError",
     "evalue": "list index out of range",
     "output_type": "error",
     "traceback": [
      "\u001b[1;31m---------------------------------------------------------------------------\u001b[0m",
      "\u001b[1;31mIndexError\u001b[0m                                Traceback (most recent call last)",
      "\u001b[1;32mc:\\Users\\shj82\\Desktop\\BUZA\\BJ.ipynb Cell 2'\u001b[0m in \u001b[0;36m<cell line: 4>\u001b[1;34m()\u001b[0m\n\u001b[0;32m      <a href='vscode-notebook-cell:/c%3A/Users/shj82/Desktop/BUZA/BJ.ipynb#ch0000001?line=1'>2</a>\u001b[0m \u001b[39mfor\u001b[39;00m i \u001b[39min\u001b[39;00m \u001b[39mrange\u001b[39m(\u001b[39mlen\u001b[39m(a)):\n\u001b[0;32m      <a href='vscode-notebook-cell:/c%3A/Users/shj82/Desktop/BUZA/BJ.ipynb#ch0000001?line=2'>3</a>\u001b[0m     a[i]\u001b[39m=\u001b[39m\u001b[39mint\u001b[39m(a[i])\n\u001b[1;32m----> <a href='vscode-notebook-cell:/c%3A/Users/shj82/Desktop/BUZA/BJ.ipynb#ch0000001?line=3'>4</a>\u001b[0m \u001b[39mprint\u001b[39m((a[\u001b[39m0\u001b[39m]\u001b[39m+\u001b[39ma[\u001b[39m1\u001b[39;49m])\u001b[39m%\u001b[39ma[\u001b[39m2\u001b[39m])\n\u001b[0;32m      <a href='vscode-notebook-cell:/c%3A/Users/shj82/Desktop/BUZA/BJ.ipynb#ch0000001?line=4'>5</a>\u001b[0m \u001b[39mprint\u001b[39m(((a[\u001b[39m0\u001b[39m]\u001b[39m%\u001b[39ma[\u001b[39m2\u001b[39m])\u001b[39m+\u001b[39m(a[\u001b[39m1\u001b[39m]\u001b[39m%\u001b[39ma[\u001b[39m2\u001b[39m]))\u001b[39m%\u001b[39ma[\u001b[39m2\u001b[39m])\n\u001b[0;32m      <a href='vscode-notebook-cell:/c%3A/Users/shj82/Desktop/BUZA/BJ.ipynb#ch0000001?line=5'>6</a>\u001b[0m \u001b[39mprint\u001b[39m((a[\u001b[39m0\u001b[39m]\u001b[39m*\u001b[39ma[\u001b[39m1\u001b[39m])\u001b[39m%\u001b[39ma[\u001b[39m2\u001b[39m])\n",
      "\u001b[1;31mIndexError\u001b[0m: list index out of range"
     ]
    }
   ],
   "source": [
    "a = list(input().split())\n",
    "for i in range(len(a)):\n",
    "    a[i]=int(a[i])\n",
    "print((a[0]+a[1])%a[2])\n",
    "print(((a[0]%a[2])+(a[1]%a[2]))%a[2])\n",
    "print((a[0]*a[1])%a[2])\n",
    "print(((a[0]%a[2])*(a[1]%a[2]))%a[2])\n"
   ]
  },
  {
   "cell_type": "code",
   "execution_count": 14,
   "metadata": {},
   "outputs": [
    {
     "name": "stdout",
     "output_type": "stream",
     "text": [
      "2360\n",
      "3776\n",
      "1416\n",
      "181720\n"
     ]
    }
   ],
   "source": [
    "\n",
    "a=int(input())\n",
    "b=input()\n",
    "print(a*int(b[-1]))\n",
    "print(a*int(b[-2]))\n",
    "print(a*int(b[-3]))\n",
    "print(a*int(b))"
   ]
  },
  {
   "cell_type": "code",
   "execution_count": 11,
   "metadata": {},
   "outputs": [
    {
     "data": {
      "text/plain": [
       "'2'"
      ]
     },
     "execution_count": 11,
     "metadata": {},
     "output_type": "execute_result"
    }
   ],
   "source": [
    "a=str(472)\n",
    "a[0]\n",
    "a[1]\n",
    "a[2]\n"
   ]
  },
  {
   "cell_type": "code",
   "execution_count": 1,
   "metadata": {},
   "outputs": [],
   "source": [
    "N=19\n",
    "output=1-9-1-9-1-9-1-9-1-9"
   ]
  },
  {
   "cell_type": "code",
   "execution_count": 3,
   "metadata": {},
   "outputs": [
    {
     "name": "stdout",
     "output_type": "stream",
     "text": [
      "['3', '5', '477162 658880 751280 927930 297191', '5', '565469 851600 460874 148692 111090', '10', '784386 279993 982220 996285 614710 992232 195265 359810 919192 158175']\n"
     ]
    }
   ],
   "source": [
    "import sys\n",
    "\n",
    "# sys.stdin = open(\"input.txt\", \"r\")\n",
    "\n",
    "with open('sample_input.txt', 'r') as file:\n",
    "    x = file.read().splitlines()\n",
    "    print(x)\n"
   ]
  },
  {
   "cell_type": "code",
   "execution_count": 22,
   "metadata": {},
   "outputs": [
    {
     "ename": "TypeError",
     "evalue": "unsupported operand type(s) for -: 'list' and 'int'",
     "output_type": "error",
     "traceback": [
      "\u001b[1;31m---------------------------------------------------------------------------\u001b[0m",
      "\u001b[1;31mTypeError\u001b[0m                                 Traceback (most recent call last)",
      "\u001b[1;32mc:\\Users\\shj82\\Desktop\\BUZA\\BJ.ipynb 셀 9\u001b[0m in \u001b[0;36m<cell line: 2>\u001b[1;34m()\u001b[0m\n\u001b[0;32m      <a href='vscode-notebook-cell:/c%3A/Users/shj82/Desktop/BUZA/BJ.ipynb#ch0000008?line=0'>1</a>\u001b[0m T\u001b[39m=\u001b[39mx[\u001b[39m0\u001b[39m]\n\u001b[1;32m----> <a href='vscode-notebook-cell:/c%3A/Users/shj82/Desktop/BUZA/BJ.ipynb#ch0000008?line=1'>2</a>\u001b[0m \u001b[39mprint\u001b[39m(\u001b[39mrange\u001b[39m(\u001b[39mlen\u001b[39m(x\u001b[39m-\u001b[39;49m\u001b[39m1\u001b[39;49m)))\n",
      "\u001b[1;31mTypeError\u001b[0m: unsupported operand type(s) for -: 'list' and 'int'"
     ]
    }
   ],
   "source": [
    "T=x[0]\n",
    "print(range(len(x-1)))\n",
    "# print(x[1])\n",
    "# print(x[2].split())"
   ]
  },
  {
   "cell_type": "code",
   "execution_count": 52,
   "metadata": {},
   "outputs": [
    {
     "name": "stdout",
     "output_type": "stream",
     "text": [
      "#1  630739\n",
      "#2  740510\n",
      "#3  838110\n"
     ]
    }
   ],
   "source": [
    "for i in range(int((len(x)-1)/2)):\n",
    "    temp=x[2+i*2].split()\n",
    "    temp=list(map(int,temp))\n",
    "    i+=1\n",
    "    print(f\"#{i} \",max(temp)-min(temp))    "
   ]
  },
  {
   "cell_type": "code",
   "execution_count": 1,
   "metadata": {},
   "outputs": [
    {
     "name": "stdout",
     "output_type": "stream",
     "text": [
      "#1  630739\n",
      "#2  740510\n",
      "#3  838110\n"
     ]
    }
   ],
   "source": [
    "# import sys\n",
    "\n",
    "with open('sample_input.txt', 'r') as file:\n",
    "    x = file.read().splitlines()\n",
    "    \n",
    "for i in range(int((len(x)-1)/2)):\n",
    "    temp=x[2+i*2].split()\n",
    "    temp=list(map(int,temp))\n",
    "    i+=1\n",
    "    print(f\"#{i} \",max(temp)-min(temp)) "
   ]
  },
  {
   "cell_type": "code",
   "execution_count": 11,
   "metadata": {},
   "outputs": [
    {
     "name": "stdout",
     "output_type": "stream",
     "text": [
      "#1  1\n"
     ]
    }
   ],
   "source": [
    "T = int(input())\n",
    "for test_case in range(1, T + 1):\n",
    "    a=int(input())\n",
    "    b=input().split()\n",
    "    b=list(map(int,b))\n",
    "    temp=max(b)-min(b)\n",
    "    print(f\"#{test_case} {temp}\")"
   ]
  },
  {
   "cell_type": "code",
   "execution_count": 58,
   "metadata": {},
   "outputs": [],
   "source": [
    "T = int(input())\n",
    "for test_case in range(1, T + 1):\n",
    "    a=input().split()\n",
    "    a=list(map(int,a))\n",
    "    b=input().split()\n",
    "    b=list(map(int,b))\n",
    "    K=a[0]\n",
    "    N=a[1]\n",
    "    M=a[2]\n",
    "temp=[0]*(N+1)\n",
    "for i in b:\n",
    "    temp[i]+=1\n"
   ]
  },
  {
   "cell_type": "code",
   "execution_count": 22,
   "metadata": {},
   "outputs": [
    {
     "name": "stdout",
     "output_type": "stream",
     "text": [
      "1 3\n",
      "2 4\n",
      "2 6\n",
      "#1 3\n"
     ]
    }
   ],
   "source": [
    "K=a[0]\n",
    "K_count=a[0]\n",
    "ii=0\n",
    "charge=0\n",
    "N=a[1]\n",
    "while K_count>0:\n",
    "    if temp[ii+K]==1:\n",
    "        K_count-=1\n",
    "        charge+=1\n",
    "        ii+=K-i\n",
    "        print('1',ii+K-1)\n",
    "    elif temp[ii+K-1]==1:\n",
    "        K_count-=1\n",
    "        charge+=1\n",
    "        ii+=K-1\n",
    "        print('2',ii+K-2)\n",
    "    elif temp[ii+K-2]==1:\n",
    "        K_count-=1\n",
    "        charge+=1\n",
    "        ii+=K-2\n",
    "        print('3',ii+K-3)\n",
    "    else:\n",
    "        print(f\"#{test_case}\", int(0))\n",
    "        break\n",
    "print(f\"#{test_case}\",charge)"
   ]
  },
  {
   "cell_type": "code",
   "execution_count": 63,
   "metadata": {},
   "outputs": [
    {
     "name": "stdout",
     "output_type": "stream",
     "text": [
      "#1 3\n"
     ]
    }
   ],
   "source": [
    "T = int(input())\n",
    "for test_case in range(1, T + 1):\n",
    "    a=input().split()\n",
    "    a=list(map(int,a))\n",
    "    b=input().split()\n",
    "    b=list(map(int,b))\n",
    "    K=a[0]\n",
    "    N=a[1]\n",
    "    M=a[2]\n",
    "    temp=[0]*(N+1)\n",
    "    for i in b:\n",
    "        temp[i]+=1\n",
    "\n",
    "    ii=0\n",
    "    charge=0\n",
    "\n",
    "    for i in range(M-1):\n",
    "        if b[i+1]-b[i] > K:\n",
    "            charge=0\n",
    "            break\n",
    "        else:\n",
    "            for i in range(K):\n",
    "                for j in range(K):\n",
    "                    if ii+K-j >= N:\n",
    "                        break\n",
    "                    elif temp[ii+K-j]==1:\n",
    "                        charge+=1\n",
    "                        ii=(ii+K-j)\n",
    "                        break\n",
    "            \n",
    "    print(f\"#{test_case}\",charge)"
   ]
  }
 ],
 "metadata": {
  "kernelspec": {
   "display_name": "Python 3.9.12 ('coin')",
   "language": "python",
   "name": "python3"
  },
  "language_info": {
   "codemirror_mode": {
    "name": "ipython",
    "version": 3
   },
   "file_extension": ".py",
   "mimetype": "text/x-python",
   "name": "python",
   "nbconvert_exporter": "python",
   "pygments_lexer": "ipython3",
   "version": "3.9.12"
  },
  "orig_nbformat": 4,
  "vscode": {
   "interpreter": {
    "hash": "a77181fc8ed12697868dbe4c1d4e7aba69e7d66889fd00fd2a00ded106ef11e1"
   }
  }
 },
 "nbformat": 4,
 "nbformat_minor": 2
}
