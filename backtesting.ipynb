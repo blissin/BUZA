{
 "cells": [
  {
   "cell_type": "code",
   "execution_count": null,
   "metadata": {},
   "outputs": [],
   "source": [
    "from backtesting import Backtest, Strategy\n",
    "from backtesting.lib import crossover\n",
    "from backtesting.test import SMA, GOOG\n",
    "\n",
    "class SmaCross(Strategy):\n",
    "    def init(self):\n",
    "        price = self.data.Close\n",
    "        self.ma1 = self.I(SMA, price, 10)\n",
    "        self.ma2 = self.I(SMA, price, 20)\n",
    "\n",
    "    def next(self):\n",
    "        if crossover(self.ma1, self.ma2):\n",
    "            self.buy()\n",
    "        elif crossover(self.ma2, self.ma1):\n",
    "            self.sell()\n",
    "\n",
    "bt = Backtest(GOOG, SmaCross, commission=.002, exclusive_orders=True)\n",
    "\n",
    "stats = bt.run()\n",
    "bt.plot()    "
   ]
  },
  {
   "cell_type": "code",
   "execution_count": 7,
   "metadata": {},
   "outputs": [
    {
     "data": {
      "text/plain": [
       "pandas.core.series.Series"
      ]
     },
     "execution_count": 7,
     "metadata": {},
     "output_type": "execute_result"
    }
   ],
   "source": [
    "import pyupbit\n",
    "import datetime, time\n",
    "\n",
    "'''\n",
    "RSI\n",
    "AU = (13*이전AU + 현재 상승분)/14\n",
    "AD = (13*이전AD + 현재 하락분)/14\n",
    "'''\n",
    "data = pyupbit.get_ohlcv(ticker=\"KRW-BTC\", interval=\"day\") #일봉\n",
    "closedata = data['close']\n",
    "delta = closedata.diff(periods=1)\n",
    "delta\n",
    "\n",
    "ups, downs =delta.copy(), delta.copy()\n",
    "ups[ups < 0] = 0\n",
    "downs[downs > 0] = 0\n",
    "\n",
    "#14일치 지수 이동 평균 (EMA, Exponential Moving Average)\n",
    "periods = 14\n",
    "au = ups.ewm(com=periods-1, min_periods=periods).mean()\n",
    "ad = downs.abs().ewm(com=periods-1, min_periods=periods).mean()\n",
    "\n",
    "RS = au/ad\n",
    "RSI = 100-(100/(1+RS))\n"
   ]
  },
  {
   "cell_type": "code",
   "execution_count": null,
   "metadata": {},
   "outputs": [],
   "source": []
  },
  {
   "cell_type": "code",
   "execution_count": null,
   "metadata": {},
   "outputs": [],
   "source": []
  },
  {
   "cell_type": "code",
   "execution_count": null,
   "metadata": {},
   "outputs": [],
   "source": []
  },
  {
   "cell_type": "code",
   "execution_count": null,
   "metadata": {},
   "outputs": [],
   "source": []
  },
  {
   "cell_type": "code",
   "execution_count": null,
   "metadata": {},
   "outputs": [],
   "source": []
  },
  {
   "cell_type": "code",
   "execution_count": 2,
   "metadata": {},
   "outputs": [
    {
     "data": {
      "text/plain": [
       "2022-07-17 06:20:00         NaN\n",
       "2022-07-17 06:25:00    204000.0\n",
       "2022-07-17 06:30:00         0.0\n",
       "2022-07-17 06:35:00         0.0\n",
       "2022-07-17 06:40:00     41000.0\n",
       "                         ...   \n",
       "2022-07-17 22:35:00     21000.0\n",
       "2022-07-17 22:40:00     16000.0\n",
       "2022-07-17 22:45:00         0.0\n",
       "2022-07-17 22:50:00         0.0\n",
       "2022-07-17 22:55:00         0.0\n",
       "Name: close, Length: 200, dtype: float64"
      ]
     },
     "execution_count": 2,
     "metadata": {},
     "output_type": "execute_result"
    }
   ],
   "source": [
    "ups"
   ]
  },
  {
   "cell_type": "code",
   "execution_count": null,
   "metadata": {},
   "outputs": [],
   "source": []
  },
  {
   "cell_type": "code",
   "execution_count": null,
   "metadata": {},
   "outputs": [],
   "source": []
  }
 ],
 "metadata": {
  "kernelspec": {
   "display_name": "Python 3.9.12 ('upbit')",
   "language": "python",
   "name": "python3"
  },
  "language_info": {
   "codemirror_mode": {
    "name": "ipython",
    "version": 3
   },
   "file_extension": ".py",
   "mimetype": "text/x-python",
   "name": "python",
   "nbconvert_exporter": "python",
   "pygments_lexer": "ipython3",
   "version": "3.9.12"
  },
  "orig_nbformat": 4,
  "vscode": {
   "interpreter": {
    "hash": "990a98785bfc59deff0196feeedc7510c813507f472de5ed11856fca7b69db0e"
   }
  }
 },
 "nbformat": 4,
 "nbformat_minor": 2
}
