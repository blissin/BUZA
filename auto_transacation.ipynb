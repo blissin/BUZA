{
 "cells": [
  {
   "cell_type": "code",
   "execution_count": null,
   "metadata": {},
   "outputs": [],
   "source": [
    "print(\"let's start\")\n",
    "# https://young0823.tistory.com/268\n",
    "# blog 보고 시작합니다"
   ]
  },
  {
   "cell_type": "code",
   "execution_count": 4,
   "metadata": {},
   "outputs": [
    {
     "ename": "FileNotFoundError",
     "evalue": "[Errno 2] No such file or directory: 'C:/Users/shj82/Desktop/AKSK.txt'",
     "output_type": "error",
     "traceback": [
      "\u001b[0;31m---------------------------------------------------------------------------\u001b[0m",
      "\u001b[0;31mFileNotFoundError\u001b[0m                         Traceback (most recent call last)",
      "\u001b[1;32m/Users/song/BUZA/auto_transacation.ipynb Cell 2'\u001b[0m in \u001b[0;36m<cell line: 5>\u001b[0;34m()\u001b[0m\n\u001b[1;32m      <a href='vscode-notebook-cell:/Users/song/BUZA/auto_transacation.ipynb#ch0000001?line=1'>2</a>\u001b[0m \u001b[39mimport\u001b[39;00m \u001b[39mtime\u001b[39;00m\n\u001b[1;32m      <a href='vscode-notebook-cell:/Users/song/BUZA/auto_transacation.ipynb#ch0000001?line=2'>3</a>\u001b[0m \u001b[39m# import schedule\u001b[39;00m\n\u001b[0;32m----> <a href='vscode-notebook-cell:/Users/song/BUZA/auto_transacation.ipynb#ch0000001?line=4'>5</a>\u001b[0m \u001b[39mwith\u001b[39;00m \u001b[39mopen\u001b[39;49m(\u001b[39m\"\u001b[39;49m\u001b[39mC:/Users/shj82/Desktop/AKSK.txt\u001b[39;49m\u001b[39m\"\u001b[39;49m,\u001b[39m\"\u001b[39;49m\u001b[39mr\u001b[39;49m\u001b[39m\"\u001b[39;49m) \u001b[39mas\u001b[39;00m f:\n\u001b[1;32m      <a href='vscode-notebook-cell:/Users/song/BUZA/auto_transacation.ipynb#ch0000001?line=5'>6</a>\u001b[0m     as_ks\u001b[39m=\u001b[39mf\u001b[39m.\u001b[39mreadlines()\n\u001b[1;32m      <a href='vscode-notebook-cell:/Users/song/BUZA/auto_transacation.ipynb#ch0000001?line=6'>7</a>\u001b[0m access \u001b[39m=\u001b[39m \u001b[39mstr\u001b[39m(as_ks[\u001b[39m0\u001b[39m]\u001b[39m.\u001b[39mstrip())\n",
      "\u001b[0;31mFileNotFoundError\u001b[0m: [Errno 2] No such file or directory: 'C:/Users/shj82/Desktop/AKSK.txt'"
     ]
    }
   ],
   "source": [
    "import pyupbit\n",
    "import time\n",
    "# import schedule\n",
    "\n",
    "with open(\"C:/Users/shj82/Desktop/AKSK.txt\",\"r\") as f:\n",
    "    as_ks=f.readlines()\n",
    "access = str(as_ks[0].strip())\n",
    "secret = str(as_ks[1].strip())\n",
    "\n",
    "upbit = pyupbit.Upbit(access, secret)"
   ]
  },
  {
   "cell_type": "code",
   "execution_count": null,
   "metadata": {},
   "outputs": [],
   "source": [
    "start = time.time()\n",
    "\n",
    "def get_bit_coin():\n",
    "\n",
    "    btc_price = pyupbit.get_current_price(\"KRW-BTC\")\n",
    "    btc_bal = upbit.get_balance(\"KRW-BTC\")*btc_price\n",
    "    krw_bal = upbit.get_balance(\"KRW\")\n",
    "    total_bal = btc_bal + krw_bal\n",
    "    ratio = 0.7\n",
    "\n",
    "    print(\"KRW 잔액 : ￦\" + format(round(krw_bal,0),','))\n",
    "    print(\"BTC 보유 : ￦\" + format(round(btc_bal,0),','))\n",
    "    print(\"BTC 시세 : ￦\" + format(btc_price,','),'\\n')\n",
    "    \n",
    "    # 전체 금액에서 7:3 으로 비트코인 유지\n",
    "    buy_coin = (ratio*total_bal) - btc_bal \n",
    "    sell_coin = btc_bal - (ratio*total_bal)\n",
    "    if krw_bal > 50000: #잔액 5만원 이하면 그만\n",
    "        if  ratio > btc_bal/total_bal: #buy_coin>0\n",
    "            if upbit.buy_market_order(\"KRW-BTC\", buy_coin)==None:\n",
    "                print(\"5,000원 미만 거래 불가\")\n",
    "                pass\n",
    "            else:\n",
    "                print(\"매수 - Long : \" + format(round(buy_coin,0), ','))            \n",
    "        else:                          #sell_coin>0\n",
    "            if upbit.sell_market_order(\"KRW-BTC\", sell_coin/btc_price) == None:\n",
    "                print(\"5,000원 미만 거래 불가\")\n",
    "                pass\n",
    "            else :\n",
    "                print(\"매도 - Short : \" + format(round(sell_coin,0), ','))     \n",
    "    else:\n",
    "        print(\"보유 잔액 부족\")\n",
    "\n",
    "    print(\"Run time : \" , round((time.time() - start),2),'\\n\\n') #실행 시간\n",
    "\n",
    "\n",
    "print(\"*** Run auto transaction ***\")\n",
    "get_bit_coin()\n",
    "\n",
    "\n",
    "# #매 정각마다 실행\n",
    "schedule.every().minute.at(\":00\").do(get_bit_coin) \n",
    "# schedule.every(10).seconds.do(get_bit_coin)\n",
    "\n",
    "while True:\n",
    "    schedule.run_pending()\n",
    "    time.sleep(1)\n"
   ]
  },
  {
   "cell_type": "code",
   "execution_count": null,
   "metadata": {},
   "outputs": [],
   "source": [
    "import pyupbit\n",
    "import schedule\n",
    "import time\n",
    "\n",
    "with open(\"C:/Users/shj82/Desktop/AKSK.txt\",\"r\") as f:\n",
    "    as_ks=f.readlines()\n",
    "access = str(as_ks[0].strip())\n",
    "secret = str(as_ks[1].strip())\n",
    "\n",
    "\n",
    "# access = \"\"          # 본인 값으로 변경\n",
    "# secret = \"\"          # 본인 값으로 변경\n",
    "upbit = pyupbit.Upbit(access, secret)\n",
    "\n",
    "print(upbit.get_balance(\"KRW-BTC\")*pyupbit.get_current_price(\"KRW-BTC\"))     # KRW-BTC 조회\n",
    "print(upbit.get_balance(\"KRW\"))            # 보유 현금 조회\n",
    "\n",
    "def job(): # 아래 것을 주기적으로 실행\n",
    "    a = upbit.get_balance(\"KRW\")\n",
    "    b = upbit.get_balance(\"KRW-BTC\")*pyupbit.get_current_price(\"KRW-BTC\")\n",
    "    c = a + b\n",
    "    print(a)\n",
    "    print(b)\n",
    "    print(b/c)\n",
    "    if b/c <= 0.695: #비트코인 보유 비율 70프로에서 -0.5프로 하향 -> 평단가에서 비트코인 -2.23% 가격 하락\n",
    "        upbit.buy_market_order(\"KRW-BTC\", 0.7*c - b) #다시 70%로 맞춰서 매수\n",
    "    if b/c >=0.705: #비트코인 보유 비율 70프로에서 +0.5프로 상향 -> 평단가에서 비트코인 +2.4% 가격 상승\n",
    "        upbit.sell_market_order(\"KRW-BTC\", (b-0.7*c)/pyupbit.get_current_price(\"KRW-BTC\"))  #다시 70%로 맞춰서 매도\n",
    "\n",
    "\n",
    "job()\n",
    "#매 정각마다 실행\n",
    "# schedule.every().minute.at(\":00\").do(job) \n",
    "\n",
    "# while True:\n",
    "#     schedule.run_pending()\n",
    "#     time.sleep(1)"
   ]
  },
  {
   "cell_type": "code",
   "execution_count": null,
   "metadata": {},
   "outputs": [],
   "source": [
    "schedule.every().hour.do(job)\n",
    "print(schedule.jobs)"
   ]
  },
  {
   "cell_type": "code",
   "execution_count": 2,
   "metadata": {},
   "outputs": [
    {
     "name": "stdout",
     "output_type": "stream",
     "text": [
      "ERROR: unknown command \"Backtesting\"\n",
      "Note: you may need to restart the kernel to use updated packages.\n"
     ]
    }
   ],
   "source": [
    "pip Backtesting --version"
   ]
  }
 ],
 "metadata": {
  "kernelspec": {
   "display_name": "Python 3.9.12 ('upbit')",
   "language": "python",
   "name": "python3"
  },
  "language_info": {
   "codemirror_mode": {
    "name": "ipython",
    "version": 3
   },
   "file_extension": ".py",
   "mimetype": "text/x-python",
   "name": "python",
   "nbconvert_exporter": "python",
   "pygments_lexer": "ipython3",
   "version": "3.9.12"
  },
  "orig_nbformat": 4,
  "vscode": {
   "interpreter": {
    "hash": "990a98785bfc59deff0196feeedc7510c813507f472de5ed11856fca7b69db0e"
   }
  }
 },
 "nbformat": 4,
 "nbformat_minor": 2
}
