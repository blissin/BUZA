{
 "cells": [
  {
   "cell_type": "code",
   "execution_count": 2,
   "metadata": {},
   "outputs": [
    {
     "name": "stdout",
     "output_type": "stream",
     "text": [
      "let's start\n"
     ]
    }
   ],
   "source": [
    "print(\"let's start\")\n",
    "# https://young0823.tistory.com/268\n",
    "# blog 보고 시작합니다"
   ]
  },
  {
   "cell_type": "markdown",
   "metadata": {},
   "source": [
    "#test"
   ]
  },
  {
   "cell_type": "code",
   "execution_count": 36,
   "metadata": {},
   "outputs": [
    {
     "name": "stdout",
     "output_type": "stream",
     "text": [
      "*** Run auto transaction ***\n",
      "잔액 : ￦106,807.0\n",
      "BTC : ￦45,955.0\n",
      "BTC 시세 : ￦26,385,000.0 \n",
      "\n",
      "매도 - Short : 45,754.591705592\n",
      "run time :  0.44\n",
      "*** Run auto transaction ***\n",
      "잔액 : ￦15,358.0\n",
      "BTC : ￦137,423.0\n",
      "BTC 시세 : ￦26,399,000.0 \n",
      "\n",
      "매도 - Short : 17.652570477992413\n",
      "run time :  10.77\n",
      "*** Run auto transaction ***\n",
      "잔액 : ￦61,087.0\n",
      "BTC : ￦91,675.0\n",
      "BTC 시세 : ￦26,401,000.0 \n",
      "\n",
      "매도 - Short : 17.652570477992413\n",
      "run time :  21.12\n",
      "*** Run auto transaction ***\n",
      "잔액 : ￦61,087.0\n",
      "BTC : ￦91,675.0\n",
      "BTC 시세 : ￦26,401,000.0 \n",
      "\n",
      "매도 - Short : 25.986378478002734\n",
      "run time :  31.48\n",
      "*** Run auto transaction ***\n",
      "잔액 : ￦61,087.0\n",
      "BTC : ￦91,696.0\n",
      "BTC 시세 : ￦26,407,000.0 \n",
      "\n",
      "매도 - Short : 27.37534647800203\n",
      "run time :  41.79\n",
      "*** Run auto transaction ***\n",
      "잔액 : ￦61,087.0\n",
      "BTC : ￦91,700.0\n",
      "BTC 시세 : ￦26,408,000.0 \n",
      "\n",
      "매도 - Short : 41.26502647799498\n",
      "run time :  52.11\n"
     ]
    },
    {
     "ename": "KeyboardInterrupt",
     "evalue": "",
     "output_type": "error",
     "traceback": [
      "\u001b[1;31m---------------------------------------------------------------------------\u001b[0m",
      "\u001b[1;31mKeyboardInterrupt\u001b[0m                         Traceback (most recent call last)",
      "\u001b[1;32mc:\\Users\\shj82\\Desktop\\DJpumpThisParty\\auto_transacation.ipynb Cell 2'\u001b[0m in \u001b[0;36m<cell line: 14>\u001b[1;34m()\u001b[0m\n\u001b[0;32m     <a href='vscode-notebook-cell:/c%3A/Users/shj82/Desktop/DJpumpThisParty/auto_transacation.ipynb#ch0000001?line=41'>42</a>\u001b[0m     \u001b[39mprint\u001b[39m(\u001b[39m\"\u001b[39m\u001b[39m매도 - Short : \u001b[39m\u001b[39m\"\u001b[39m \u001b[39m+\u001b[39m \u001b[39mformat\u001b[39m(sell_coin, \u001b[39m'\u001b[39m\u001b[39m,\u001b[39m\u001b[39m'\u001b[39m))\n\u001b[0;32m     <a href='vscode-notebook-cell:/c%3A/Users/shj82/Desktop/DJpumpThisParty/auto_transacation.ipynb#ch0000001?line=43'>44</a>\u001b[0m \u001b[39mprint\u001b[39m(\u001b[39m\"\u001b[39m\u001b[39mrun time : \u001b[39m\u001b[39m\"\u001b[39m , \u001b[39mround\u001b[39m((time\u001b[39m.\u001b[39mtime() \u001b[39m-\u001b[39m start),\u001b[39m2\u001b[39m))\n\u001b[1;32m---> <a href='vscode-notebook-cell:/c%3A/Users/shj82/Desktop/DJpumpThisParty/auto_transacation.ipynb#ch0000001?line=44'>45</a>\u001b[0m time\u001b[39m.\u001b[39;49msleep(\u001b[39m10\u001b[39;49m)\n",
      "\u001b[1;31mKeyboardInterrupt\u001b[0m: "
     ]
    }
   ],
   "source": [
    "import pyupbit\n",
    "import time\n",
    "\n",
    "with open(\"C:/Users/shj82/Desktop/AKSK.txt\",\"r\") as f:\n",
    "    as_ks=f.readlines()\n",
    "access = str(as_ks[0].strip())\n",
    "secret = str(as_ks[1].strip())\n",
    "\n",
    "upbit = pyupbit.Upbit(access, secret)\n",
    "\n",
    "start = time.time()\n",
    "\n",
    "while True:\n",
    "    print(\"*** Run auto transaction ***\")\n",
    "\n",
    "    print(\"잔액 : ￦\" + format(round(krw_bal,0),','))\n",
    "    print(\"BTC : ￦\" + format(round(btc_bal,0),','))\n",
    "    print(\"BTC 시세 : ￦\" + format(btc_price,','),'\\n')\n",
    "    \n",
    "    btc_price = pyupbit.get_current_price(\"KRW-BTC\")\n",
    "\n",
    "    btc_bal = upbit.get_balance(\"KRW-BTC\")*btc_price\n",
    "    krw_bal = upbit.get_balance(\"KRW\")\n",
    "    total_bal = btc_bal + krw_bal\n",
    "    bal_ratio = 0.6\n",
    "    \n",
    "    buy_coin = (bal_ratio*total_bal) - btc_bal\n",
    "    sell_coin = btc_bal - (bal_ratio*total_bal)\n",
    "\n",
    "    # if krw_bal < 50000: #잔액 5만원 이하면 그만\n",
    "    #     print(\"잔액 부족\")\n",
    "    #     break\n",
    "    \n",
    "    if btc_bal/total_bal < bal_ratio:\n",
    "        if krw_bal > 50000:\n",
    "            upbit.buy_market_order(\"KRW-BTC\", buy_coin)\n",
    "            print(\"매수 - Long : \" + format(buy_coin),',')\n",
    "        else:\n",
    "            print(\"잔액 부족\")\n",
    "    else:\n",
    "        upbit.sell_market_order(\"KRW-BTC\", sell_coin/btc_price)\n",
    "        print(\"매도 - Short : \" + format(sell_coin, ','))\n",
    "\n",
    "    print(\"run time : \" , round((time.time() - start),2),'\\n\\n')\n",
    "    time.sleep(10)"
   ]
  },
  {
   "cell_type": "code",
   "execution_count": null,
   "metadata": {},
   "outputs": [],
   "source": [
    "# import schedule\n",
    "# import time\n",
    "# def job(): # 아래 것을 주기적으로 실행\n",
    "#     a = upbit.get_balance(\"KRW-BTC\")*pyupbit.get_current_price(\"KRW-BTC\")\n",
    "#     b = upbit.get_balance(\"KRW\")\n",
    "#     c = a + b\n",
    "#     d = 0.7\n",
    "\n",
    "#     if a/c < d :                                           # 참이려면 비트코인 가격이 하락하였을 때지\n",
    "#         upbit.buy_market_order(\"KRW-BTC\", d*c-a)     # 돈으로\n",
    "    \n",
    "#     else :\n",
    "#         upbit.sell_market_order(\"KRW-BTC\", (a-d*c)/pyupbit.get_current_price(\"KRW-BTC\"))       # BTC로\n",
    "\n",
    "#     if a/c < d :\n",
    "#         print(d*c-a)\n",
    "#     else :   \n",
    "#         print((a-d*c)/pyupbit.get_current_price(\"KRW-BTC\"))\n",
    "\n",
    "# # schedule.every().hour.do(job)\n",
    "# # schedule.every(1).seconds.do(job)\n",
    "# # schedule.every(10).minutes.do(job)\n",
    "# # schedule.every().hour.do(job)\n",
    "# # schedule.every().day.at(\"10:30\").do(job)\n",
    "# # schedule.every(5).to(10).minutes.do(job)\n",
    "# # schedule.every().monday.do(job)\n",
    "# # schedule.every().wednesday.at(\"13:15\").do(job)\n",
    "# schedule.every().minute.at(\":00\").do(job)\n",
    "# schedule.every().minute.at(\":30\").do(job)\n",
    "# while True:\n",
    "#     schedule.run_pending()\n",
    "#     time.sleep(1)"
   ]
  }
 ],
 "metadata": {
  "kernelspec": {
   "display_name": "Python 3.9.12 ('upbit')",
   "language": "python",
   "name": "python3"
  },
  "language_info": {
   "codemirror_mode": {
    "name": "ipython",
    "version": 3
   },
   "file_extension": ".py",
   "mimetype": "text/x-python",
   "name": "python",
   "nbconvert_exporter": "python",
   "pygments_lexer": "ipython3",
   "version": "3.9.12"
  },
  "orig_nbformat": 4,
  "vscode": {
   "interpreter": {
    "hash": "990a98785bfc59deff0196feeedc7510c813507f472de5ed11856fca7b69db0e"
   }
  }
 },
 "nbformat": 4,
 "nbformat_minor": 2
}
